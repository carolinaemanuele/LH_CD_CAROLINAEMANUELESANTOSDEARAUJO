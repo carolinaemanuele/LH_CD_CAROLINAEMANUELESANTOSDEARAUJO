{
 "cells": [
  {
   "cell_type": "markdown",
   "id": "619dd1ad-d465-483e-b17e-2b925ebfab05",
   "metadata": {},
   "source": [
    "# Importação das bibliotecas"
   ]
  },
  {
   "cell_type": "code",
   "execution_count": 1,
   "id": "547a1a6b-1c7f-40b6-bea1-51674f391e94",
   "metadata": {},
   "outputs": [],
   "source": [
    "import pandas as pd\n",
    "import matplotlib.pyplot as plt\n",
    "import numpy as np\n",
    "import seaborn as sns"
   ]
  },
  {
   "cell_type": "code",
   "execution_count": 2,
   "id": "45f92132-923b-46ed-b054-80452ce2bb2e",
   "metadata": {},
   "outputs": [],
   "source": [
    "from gensim.models import Word2Vec\n",
    "from sklearn.feature_extraction.text import TfidfVectorizer\n",
    "from nltk.tokenize import word_tokenize\n",
    "import nltk\n",
    "nltk.download('punkt')"
   ]
  },
  {
   "cell_type": "code",
   "execution_count": 3,
   "id": "51871fe8-29ac-465a-b507-3a0368d2ab47",
   "metadata": {},
   "outputs": [],
   "source": [
    "from scipy.stats import chi2_contingency\n",
    "import pingouin as pg"
   ]
  },
  {
   "cell_type": "code",
   "execution_count": 4,
   "id": "c813a011-c60a-4d5f-9df6-17865bd22949",
   "metadata": {},
   "outputs": [],
   "source": [
    "from sklearn.model_selection import train_test_split, KFold\n",
    "from sklearn.metrics import classification_report, accuracy_score, mean_squared_error\n",
    "from sklearn.preprocessing import StandardScaler, LabelEncoder\n",
    "from yellowbrick.classifier import ConfusionMatrix\n",
    "import optuna\n",
    "from sklearn.linear_model import LinearRegression, LogisticRegression\n",
    "from sklearn.tree import DecisionTreeClassifier\n",
    "from sklearn.ensemble import RandomForestClassifier\n",
    "from sklearn.neighbors import KNeighborsClassifier\n",
    "from sklearn.naive_bayes import GaussianNB\n",
    "from sklearn.svm import SVC\n",
    "from sklearn.neural_network import MLPClassifier\n",
    "from sklearn.cluster import KMeans\n",
    "from sklearn.decomposition import PCA"
   ]
  },
  {
   "cell_type": "markdown",
   "id": "36dc3273-252b-47a0-8243-676d614b46c0",
   "metadata": {},
   "source": [
    "# Importação do banco de dados"
   ]
  },
  {
   "cell_type": "code",
   "execution_count": 5,
   "id": "cba313cf-c066-4c9d-8677-bcb1bd4ed45e",
   "metadata": {
    "scrolled": true
   },
   "outputs": [
    {
     "data": {
      "text/html": [
       "<div>\n",
       "<style scoped>\n",
       "    .dataframe tbody tr th:only-of-type {\n",
       "        vertical-align: middle;\n",
       "    }\n",
       "\n",
       "    .dataframe tbody tr th {\n",
       "        vertical-align: top;\n",
       "    }\n",
       "\n",
       "    .dataframe thead th {\n",
       "        text-align: right;\n",
       "    }\n",
       "</style>\n",
       "<table border=\"1\" class=\"dataframe\">\n",
       "  <thead>\n",
       "    <tr style=\"text-align: right;\">\n",
       "      <th></th>\n",
       "      <th>Unnamed: 0</th>\n",
       "      <th>Series_Title</th>\n",
       "      <th>Released_Year</th>\n",
       "      <th>Certificate</th>\n",
       "      <th>Runtime</th>\n",
       "      <th>Genre</th>\n",
       "      <th>IMDB_Rating</th>\n",
       "      <th>Overview</th>\n",
       "      <th>Meta_score</th>\n",
       "      <th>Director</th>\n",
       "      <th>Star1</th>\n",
       "      <th>Star2</th>\n",
       "      <th>Star3</th>\n",
       "      <th>Star4</th>\n",
       "      <th>No_of_Votes</th>\n",
       "      <th>Gross</th>\n",
       "    </tr>\n",
       "  </thead>\n",
       "  <tbody>\n",
       "    <tr>\n",
       "      <th>0</th>\n",
       "      <td>1</td>\n",
       "      <td>The Godfather</td>\n",
       "      <td>1972</td>\n",
       "      <td>A</td>\n",
       "      <td>175 min</td>\n",
       "      <td>Crime, Drama</td>\n",
       "      <td>9.2</td>\n",
       "      <td>An organized crime dynasty's aging patriarch t...</td>\n",
       "      <td>100.0</td>\n",
       "      <td>Francis Ford Coppola</td>\n",
       "      <td>Marlon Brando</td>\n",
       "      <td>Al Pacino</td>\n",
       "      <td>James Caan</td>\n",
       "      <td>Diane Keaton</td>\n",
       "      <td>1620367</td>\n",
       "      <td>134,966,411</td>\n",
       "    </tr>\n",
       "    <tr>\n",
       "      <th>1</th>\n",
       "      <td>2</td>\n",
       "      <td>The Dark Knight</td>\n",
       "      <td>2008</td>\n",
       "      <td>UA</td>\n",
       "      <td>152 min</td>\n",
       "      <td>Action, Crime, Drama</td>\n",
       "      <td>9.0</td>\n",
       "      <td>When the menace known as the Joker wreaks havo...</td>\n",
       "      <td>84.0</td>\n",
       "      <td>Christopher Nolan</td>\n",
       "      <td>Christian Bale</td>\n",
       "      <td>Heath Ledger</td>\n",
       "      <td>Aaron Eckhart</td>\n",
       "      <td>Michael Caine</td>\n",
       "      <td>2303232</td>\n",
       "      <td>534,858,444</td>\n",
       "    </tr>\n",
       "    <tr>\n",
       "      <th>2</th>\n",
       "      <td>3</td>\n",
       "      <td>The Godfather: Part II</td>\n",
       "      <td>1974</td>\n",
       "      <td>A</td>\n",
       "      <td>202 min</td>\n",
       "      <td>Crime, Drama</td>\n",
       "      <td>9.0</td>\n",
       "      <td>The early life and career of Vito Corleone in ...</td>\n",
       "      <td>90.0</td>\n",
       "      <td>Francis Ford Coppola</td>\n",
       "      <td>Al Pacino</td>\n",
       "      <td>Robert De Niro</td>\n",
       "      <td>Robert Duvall</td>\n",
       "      <td>Diane Keaton</td>\n",
       "      <td>1129952</td>\n",
       "      <td>57,300,000</td>\n",
       "    </tr>\n",
       "    <tr>\n",
       "      <th>3</th>\n",
       "      <td>4</td>\n",
       "      <td>12 Angry Men</td>\n",
       "      <td>1957</td>\n",
       "      <td>U</td>\n",
       "      <td>96 min</td>\n",
       "      <td>Crime, Drama</td>\n",
       "      <td>9.0</td>\n",
       "      <td>A jury holdout attempts to prevent a miscarria...</td>\n",
       "      <td>96.0</td>\n",
       "      <td>Sidney Lumet</td>\n",
       "      <td>Henry Fonda</td>\n",
       "      <td>Lee J. Cobb</td>\n",
       "      <td>Martin Balsam</td>\n",
       "      <td>John Fiedler</td>\n",
       "      <td>689845</td>\n",
       "      <td>4,360,000</td>\n",
       "    </tr>\n",
       "    <tr>\n",
       "      <th>4</th>\n",
       "      <td>5</td>\n",
       "      <td>The Lord of the Rings: The Return of the King</td>\n",
       "      <td>2003</td>\n",
       "      <td>U</td>\n",
       "      <td>201 min</td>\n",
       "      <td>Action, Adventure, Drama</td>\n",
       "      <td>8.9</td>\n",
       "      <td>Gandalf and Aragorn lead the World of Men agai...</td>\n",
       "      <td>94.0</td>\n",
       "      <td>Peter Jackson</td>\n",
       "      <td>Elijah Wood</td>\n",
       "      <td>Viggo Mortensen</td>\n",
       "      <td>Ian McKellen</td>\n",
       "      <td>Orlando Bloom</td>\n",
       "      <td>1642758</td>\n",
       "      <td>377,845,905</td>\n",
       "    </tr>\n",
       "  </tbody>\n",
       "</table>\n",
       "</div>"
      ],
      "text/plain": [
       "   Unnamed: 0                                   Series_Title Released_Year  \\\n",
       "0           1                                  The Godfather          1972   \n",
       "1           2                                The Dark Knight          2008   \n",
       "2           3                         The Godfather: Part II          1974   \n",
       "3           4                                   12 Angry Men          1957   \n",
       "4           5  The Lord of the Rings: The Return of the King          2003   \n",
       "\n",
       "  Certificate  Runtime                     Genre  IMDB_Rating  \\\n",
       "0           A  175 min              Crime, Drama          9.2   \n",
       "1          UA  152 min      Action, Crime, Drama          9.0   \n",
       "2           A  202 min              Crime, Drama          9.0   \n",
       "3           U   96 min              Crime, Drama          9.0   \n",
       "4           U  201 min  Action, Adventure, Drama          8.9   \n",
       "\n",
       "                                            Overview  Meta_score  \\\n",
       "0  An organized crime dynasty's aging patriarch t...       100.0   \n",
       "1  When the menace known as the Joker wreaks havo...        84.0   \n",
       "2  The early life and career of Vito Corleone in ...        90.0   \n",
       "3  A jury holdout attempts to prevent a miscarria...        96.0   \n",
       "4  Gandalf and Aragorn lead the World of Men agai...        94.0   \n",
       "\n",
       "               Director           Star1            Star2          Star3  \\\n",
       "0  Francis Ford Coppola   Marlon Brando        Al Pacino     James Caan   \n",
       "1     Christopher Nolan  Christian Bale     Heath Ledger  Aaron Eckhart   \n",
       "2  Francis Ford Coppola       Al Pacino   Robert De Niro  Robert Duvall   \n",
       "3          Sidney Lumet     Henry Fonda      Lee J. Cobb  Martin Balsam   \n",
       "4         Peter Jackson     Elijah Wood  Viggo Mortensen   Ian McKellen   \n",
       "\n",
       "           Star4  No_of_Votes        Gross  \n",
       "0   Diane Keaton      1620367  134,966,411  \n",
       "1  Michael Caine      2303232  534,858,444  \n",
       "2   Diane Keaton      1129952   57,300,000  \n",
       "3   John Fiedler       689845    4,360,000  \n",
       "4  Orlando Bloom      1642758  377,845,905  "
      ]
     },
     "execution_count": 5,
     "metadata": {},
     "output_type": "execute_result"
    }
   ],
   "source": [
    "db_imdb = pd.read_csv(\"../Dataset/desafio_indicium_imdb.csv\") # Leitura do arquivo csv\n",
    "db_imdb.head()"
   ]
  },
  {
   "cell_type": "markdown",
   "id": "04ad1750-82d1-437b-a10c-15f74d5a15f9",
   "metadata": {},
   "source": [
    "# Análise Exploratória"
   ]
  },
  {
   "cell_type": "markdown",
   "id": "57761213-1b2e-479c-afac-f8e373de8c06",
   "metadata": {},
   "source": [
    "**Atributos**\n",
    "\n",
    "- *Series_Title:* Nome do filme\n",
    "- *\n",
    "Released_Yea:*  Ano de lançament\n",
    "- *Certificate:* Classificação etária\n",
    "- *Runtime:* Tempo de duração\n",
    "- *Genre:* Gênero\n",
    "- *Overview:* Overview do filme\n",
    "- *Meta_score:* Média ponderada de todas as críticas\n",
    "- *Director:* Diretor\n",
    "- *Star1:* Ator/atriz #1\n",
    "- *Star2:* Ator/atriz #2\n",
    "- *Star3:* Ator/atriz #3\n",
    "- *Star4:* Ator/atriz #4\n",
    "- *No_of_Votes:* Número de votos\n",
    "- *Gross:* Faturamento\n",
    "- *IMDB_Rating:* Nota do IMDB- Faturamento\r\n"
   ]
  },
  {
   "cell_type": "code",
   "execution_count": 6,
   "id": "1cbcaf69-d774-4a84-aadd-9ff7e503f7e4",
   "metadata": {},
   "outputs": [
    {
     "name": "stdout",
     "output_type": "stream",
     "text": [
      "<class 'pandas.core.frame.DataFrame'>\n",
      "RangeIndex: 999 entries, 0 to 998\n",
      "Data columns (total 16 columns):\n",
      " #   Column         Non-Null Count  Dtype  \n",
      "---  ------         --------------  -----  \n",
      " 0   Unnamed: 0     999 non-null    int64  \n",
      " 1   Series_Title   999 non-null    object \n",
      " 2   Released_Year  999 non-null    object \n",
      " 3   Certificate    898 non-null    object \n",
      " 4   Runtime        999 non-null    object \n",
      " 5   Genre          999 non-null    object \n",
      " 6   IMDB_Rating    999 non-null    float64\n",
      " 7   Overview       999 non-null    object \n",
      " 8   Meta_score     842 non-null    float64\n",
      " 9   Director       999 non-null    object \n",
      " 10  Star1          999 non-null    object \n",
      " 11  Star2          999 non-null    object \n",
      " 12  Star3          999 non-null    object \n",
      " 13  Star4          999 non-null    object \n",
      " 14  No_of_Votes    999 non-null    int64  \n",
      " 15  Gross          830 non-null    object \n",
      "dtypes: float64(2), int64(2), object(12)\n",
      "memory usage: 125.0+ KB\n"
     ]
    }
   ],
   "source": [
    "db_imdb.info() # Informações sobre os atributos do dataset"
   ]
  },
  {
   "cell_type": "code",
   "execution_count": 7,
   "id": "4c259704-3a78-4fa9-9ac0-0824b36229cd",
   "metadata": {},
   "outputs": [
    {
     "data": {
      "text/plain": [
       "Unnamed: 0         0\n",
       "Series_Title       0\n",
       "Released_Year      0\n",
       "Certificate      101\n",
       "Runtime            0\n",
       "Genre              0\n",
       "IMDB_Rating        0\n",
       "Overview           0\n",
       "Meta_score       157\n",
       "Director           0\n",
       "Star1              0\n",
       "Star2              0\n",
       "Star3              0\n",
       "Star4              0\n",
       "No_of_Votes        0\n",
       "Gross            169\n",
       "dtype: int64"
      ]
     },
     "execution_count": 7,
     "metadata": {},
     "output_type": "execute_result"
    }
   ],
   "source": [
    "db_imdb.isnull().sum() # Soma dos valores nulos em cada atributo"
   ]
  },
  {
   "cell_type": "code",
   "execution_count": 8,
   "id": "d5b84a1d-2fbb-4d17-a078-1095face472c",
   "metadata": {},
   "outputs": [
    {
     "data": {
      "text/plain": [
       "0"
      ]
     },
     "execution_count": 8,
     "metadata": {},
     "output_type": "execute_result"
    }
   ],
   "source": [
    "db_imdb.duplicated().sum() # Contagem de linhas duplicadas"
   ]
  },
  {
   "cell_type": "code",
   "execution_count": 9,
   "id": "ee359b01-fd16-495b-afa2-be0a3633bad9",
   "metadata": {},
   "outputs": [],
   "source": [
    "db_imdb.drop(columns=\"Unnamed: 0\", inplace=True) # Eliminação da coluna dos índices"
   ]
  },
  {
   "cell_type": "markdown",
   "id": "76a2d3c5-cd23-4114-9ede-da3ea6578e6f",
   "metadata": {},
   "source": [
    "# Tratamento dos valores nulos"
   ]
  },
  {
   "cell_type": "code",
   "execution_count": 10,
   "id": "0747baf8-d489-44bc-bc5f-0a403e8606a3",
   "metadata": {},
   "outputs": [],
   "source": [
    "db_imdb.dropna(inplace=True) # Eliminação dos valores nulos"
   ]
  },
  {
   "cell_type": "code",
   "execution_count": 11,
   "id": "7acd3dee-845e-4e29-a88d-67eef5b98976",
   "metadata": {},
   "outputs": [
    {
     "data": {
      "text/plain": [
       "(713, 15)"
      ]
     },
     "execution_count": 11,
     "metadata": {},
     "output_type": "execute_result"
    }
   ],
   "source": [
    "db_imdb.shape # Número de linha e colunas depois da eliminação dos valores nulos"
   ]
  },
  {
   "cell_type": "markdown",
   "id": "2e287e12-4764-49c4-8457-6321dc96fbee",
   "metadata": {},
   "source": [
    "# Tratamento dos dados"
   ]
  },
  {
   "cell_type": "markdown",
   "id": "0dfb01b8-a146-40bd-a6a6-20a0d17a7345",
   "metadata": {},
   "source": [
    "### Eliminando a unidade de tempo da coluna 'Runtime'"
   ]
  },
  {
   "cell_type": "code",
   "execution_count": 12,
   "id": "00ad2f70-33d8-4c3f-a388-9f16acc8e4e5",
   "metadata": {},
   "outputs": [
    {
     "data": {
      "text/plain": [
       "0      175\n",
       "1      152\n",
       "2      202\n",
       "3       96\n",
       "4      201\n",
       "      ... \n",
       "989    157\n",
       "990    144\n",
       "991     78\n",
       "993     87\n",
       "996    118\n",
       "Name: Runtime (min), Length: 713, dtype: int64"
      ]
     },
     "execution_count": 12,
     "metadata": {},
     "output_type": "execute_result"
    }
   ],
   "source": [
    "db_imdb['Runtime (min)'] = db_imdb['Runtime'].str.replace(\" min\", \"\").astype(\"int64\") # Eliminando a unidade de tempo dos valores e alterando o tipo da coluna para 'int64'\n",
    "db_imdb.drop(columns=\"Runtime\", inplace=True) # Eliminação da coluna 'Runtime' que possui valores do tipo 'object' contendo a unidade de tempo\n",
    "db_imdb['Runtime (min)']"
   ]
  },
  {
   "cell_type": "markdown",
   "id": "5cb6a180-f831-4e4b-91b2-d22e7a19cd64",
   "metadata": {},
   "source": [
    "### Separando as categorias de gênero de filme"
   ]
  },
  {
   "cell_type": "code",
   "execution_count": 14,
   "id": "56bbd1e7-ca0f-40c7-899d-823aa00a54b6",
   "metadata": {},
   "outputs": [
    {
     "data": {
      "text/plain": [
       "0                     crime drama\n",
       "1              action crime drama\n",
       "2                     crime drama\n",
       "3                     crime drama\n",
       "4          action adventure drama\n",
       "                  ...            \n",
       "989             drama war western\n",
       "990          adventure comedy war\n",
       "991    animation adventure family\n",
       "993          comedy music musical\n",
       "996             drama romance war\n",
       "Name: Genre, Length: 713, dtype: object"
      ]
     },
     "execution_count": 14,
     "metadata": {},
     "output_type": "execute_result"
    }
   ],
   "source": [
    "db_imdb['Genre'] = db_imdb['Genre'].str.replace(',', '') # Alterando as strings para que seja mais fácil manipulá-las, retirando a vírgula de separação\n",
    "db_imdb['Genre'] = db_imdb['Genre'].str.lower() # Deixando as strings em minúsculo\n",
    "db_imdb['Genre']"
   ]
  },
  {
   "cell_type": "code",
   "execution_count": 67,
   "id": "2a6dcbf1-7f59-42c9-b2af-16844ea58740",
   "metadata": {},
   "outputs": [
    {
     "data": {
      "text/plain": [
       "0                      [crime, drama]\n",
       "1              [action, crime, drama]\n",
       "2                      [crime, drama]\n",
       "3                      [crime, drama]\n",
       "4          [action, adventure, drama]\n",
       "                    ...              \n",
       "989             [drama, war, western]\n",
       "990          [adventure, comedy, war]\n",
       "991    [animation, adventure, family]\n",
       "993          [comedy, music, musical]\n",
       "996             [drama, romance, war]\n",
       "Name: TokenGenres, Length: 713, dtype: object"
      ]
     },
     "execution_count": 67,
     "metadata": {},
     "output_type": "execute_result"
    }
   ],
   "source": [
    "db_imdb['TokenGenres'] = db_imdb['Genre'].apply(lambda x: word_tokenize(x))\n",
    "db_imdb['TokenGenres']"
   ]
  },
  {
   "cell_type": "code",
   "execution_count": 80,
   "id": "35a33fae-91c9-44ab-a869-12f7cb9eda0e",
   "metadata": {},
   "outputs": [],
   "source": [
    "w2v = Word2Vec(sentences=db_imdb['TokenGenres'], epochs=50, min_count=15, window=3, vector_size=5)"
   ]
  },
  {
   "cell_type": "code",
   "execution_count": 84,
   "id": "250db0ea-c73b-4a31-bd31-4ad1715886b6",
   "metadata": {},
   "outputs": [
    {
     "data": {
      "text/html": [
       "<div>\n",
       "<style scoped>\n",
       "    .dataframe tbody tr th:only-of-type {\n",
       "        vertical-align: middle;\n",
       "    }\n",
       "\n",
       "    .dataframe tbody tr th {\n",
       "        vertical-align: top;\n",
       "    }\n",
       "\n",
       "    .dataframe thead th {\n",
       "        text-align: right;\n",
       "    }\n",
       "</style>\n",
       "<table border=\"1\" class=\"dataframe\">\n",
       "  <thead>\n",
       "    <tr style=\"text-align: right;\">\n",
       "      <th></th>\n",
       "      <th>GenreVector0</th>\n",
       "      <th>GenreVector1</th>\n",
       "      <th>GenreVector2</th>\n",
       "      <th>GenreVector3</th>\n",
       "      <th>GenreVector4</th>\n",
       "    </tr>\n",
       "  </thead>\n",
       "  <tbody>\n",
       "    <tr>\n",
       "      <th>0</th>\n",
       "      <td>-1.048536</td>\n",
       "      <td>1.554834</td>\n",
       "      <td>1.148773</td>\n",
       "      <td>-0.355833</td>\n",
       "      <td>-1.339354</td>\n",
       "    </tr>\n",
       "    <tr>\n",
       "      <th>1</th>\n",
       "      <td>-1.383481</td>\n",
       "      <td>2.371378</td>\n",
       "      <td>1.818522</td>\n",
       "      <td>-0.504652</td>\n",
       "      <td>-1.635880</td>\n",
       "    </tr>\n",
       "    <tr>\n",
       "      <th>2</th>\n",
       "      <td>-1.048536</td>\n",
       "      <td>1.554834</td>\n",
       "      <td>1.148773</td>\n",
       "      <td>-0.355833</td>\n",
       "      <td>-1.339354</td>\n",
       "    </tr>\n",
       "    <tr>\n",
       "      <th>3</th>\n",
       "      <td>-1.048536</td>\n",
       "      <td>1.554834</td>\n",
       "      <td>1.148773</td>\n",
       "      <td>-0.355833</td>\n",
       "      <td>-1.339354</td>\n",
       "    </tr>\n",
       "    <tr>\n",
       "      <th>4</th>\n",
       "      <td>-1.740273</td>\n",
       "      <td>2.747455</td>\n",
       "      <td>2.181310</td>\n",
       "      <td>-0.483633</td>\n",
       "      <td>-1.665131</td>\n",
       "    </tr>\n",
       "    <tr>\n",
       "      <th>...</th>\n",
       "      <td>...</td>\n",
       "      <td>...</td>\n",
       "      <td>...</td>\n",
       "      <td>...</td>\n",
       "      <td>...</td>\n",
       "    </tr>\n",
       "    <tr>\n",
       "      <th>708</th>\n",
       "      <td>-0.963380</td>\n",
       "      <td>1.813725</td>\n",
       "      <td>1.261853</td>\n",
       "      <td>-0.377699</td>\n",
       "      <td>-0.930437</td>\n",
       "    </tr>\n",
       "    <tr>\n",
       "      <th>709</th>\n",
       "      <td>-1.191109</td>\n",
       "      <td>2.171023</td>\n",
       "      <td>1.363393</td>\n",
       "      <td>-0.618753</td>\n",
       "      <td>-1.216369</td>\n",
       "    </tr>\n",
       "    <tr>\n",
       "      <th>710</th>\n",
       "      <td>-1.531001</td>\n",
       "      <td>1.907079</td>\n",
       "      <td>1.681570</td>\n",
       "      <td>-0.629168</td>\n",
       "      <td>-1.023418</td>\n",
       "    </tr>\n",
       "    <tr>\n",
       "      <th>711</th>\n",
       "      <td>-0.517063</td>\n",
       "      <td>1.145736</td>\n",
       "      <td>0.612920</td>\n",
       "      <td>-0.180484</td>\n",
       "      <td>-0.897002</td>\n",
       "    </tr>\n",
       "    <tr>\n",
       "      <th>712</th>\n",
       "      <td>-1.269422</td>\n",
       "      <td>1.981964</td>\n",
       "      <td>1.518956</td>\n",
       "      <td>-0.601177</td>\n",
       "      <td>-1.298782</td>\n",
       "    </tr>\n",
       "  </tbody>\n",
       "</table>\n",
       "<p>713 rows × 5 columns</p>\n",
       "</div>"
      ],
      "text/plain": [
       "     GenreVector0  GenreVector1  GenreVector2  GenreVector3  GenreVector4\n",
       "0       -1.048536      1.554834      1.148773     -0.355833     -1.339354\n",
       "1       -1.383481      2.371378      1.818522     -0.504652     -1.635880\n",
       "2       -1.048536      1.554834      1.148773     -0.355833     -1.339354\n",
       "3       -1.048536      1.554834      1.148773     -0.355833     -1.339354\n",
       "4       -1.740273      2.747455      2.181310     -0.483633     -1.665131\n",
       "..            ...           ...           ...           ...           ...\n",
       "708     -0.963380      1.813725      1.261853     -0.377699     -0.930437\n",
       "709     -1.191109      2.171023      1.363393     -0.618753     -1.216369\n",
       "710     -1.531001      1.907079      1.681570     -0.629168     -1.023418\n",
       "711     -0.517063      1.145736      0.612920     -0.180484     -0.897002\n",
       "712     -1.269422      1.981964      1.518956     -0.601177     -1.298782\n",
       "\n",
       "[713 rows x 5 columns]"
      ]
     },
     "execution_count": 84,
     "metadata": {},
     "output_type": "execute_result"
    }
   ],
   "source": [
    "df_genres = pd.DataFrame([sum([w2v.wv[word] for word in i if word in w2v.wv.index_to_key]) for i in db_imdb['TokenGenres']], columns=[f'GenreVector{i}' for i in range(5)])\n",
    "df_genres"
   ]
  },
  {
   "cell_type": "markdown",
   "id": "52a55ce8-b583-4111-a383-3b8c36e25cc3",
   "metadata": {},
   "source": [
    "## Extração de tópicos do overview"
   ]
  },
  {
   "cell_type": "code",
   "execution_count": 111,
   "id": "2f213a3f-b0cc-4084-afaa-c856960ce2c8",
   "metadata": {},
   "outputs": [],
   "source": [
    "tfidf = TfidfVectorizer(stop_words='english', max_features=15)"
   ]
  },
  {
   "cell_type": "code",
   "execution_count": 112,
   "id": "d95d9256-1bfd-42d0-8fee-10ce67f52049",
   "metadata": {},
   "outputs": [],
   "source": [
    "tfidf_overview = tfidf.fit_transform(db_imdb['Overview'])"
   ]
  },
  {
   "cell_type": "code",
   "execution_count": 114,
   "id": "5f881207-421b-48e3-a61a-62caf920eae4",
   "metadata": {},
   "outputs": [
    {
     "data": {
      "text/html": [
       "<div>\n",
       "<style scoped>\n",
       "    .dataframe tbody tr th:only-of-type {\n",
       "        vertical-align: middle;\n",
       "    }\n",
       "\n",
       "    .dataframe tbody tr th {\n",
       "        vertical-align: top;\n",
       "    }\n",
       "\n",
       "    .dataframe thead th {\n",
       "        text-align: right;\n",
       "    }\n",
       "</style>\n",
       "<table border=\"1\" class=\"dataframe\">\n",
       "  <thead>\n",
       "    <tr style=\"text-align: right;\">\n",
       "      <th></th>\n",
       "      <th>boy</th>\n",
       "      <th>family</th>\n",
       "      <th>father</th>\n",
       "      <th>help</th>\n",
       "      <th>life</th>\n",
       "      <th>love</th>\n",
       "      <th>man</th>\n",
       "      <th>new</th>\n",
       "      <th>old</th>\n",
       "      <th>son</th>\n",
       "      <th>story</th>\n",
       "      <th>war</th>\n",
       "      <th>woman</th>\n",
       "      <th>world</th>\n",
       "      <th>young</th>\n",
       "    </tr>\n",
       "  </thead>\n",
       "  <tbody>\n",
       "    <tr>\n",
       "      <th>0</th>\n",
       "      <td>0.0</td>\n",
       "      <td>0.000000</td>\n",
       "      <td>0.0</td>\n",
       "      <td>0.0</td>\n",
       "      <td>0.000000</td>\n",
       "      <td>0.0</td>\n",
       "      <td>0.0</td>\n",
       "      <td>0.000000</td>\n",
       "      <td>0.0</td>\n",
       "      <td>1.000000</td>\n",
       "      <td>0.0</td>\n",
       "      <td>0.0</td>\n",
       "      <td>0.0</td>\n",
       "      <td>0.0</td>\n",
       "      <td>0.0</td>\n",
       "    </tr>\n",
       "    <tr>\n",
       "      <th>1</th>\n",
       "      <td>0.0</td>\n",
       "      <td>0.000000</td>\n",
       "      <td>0.0</td>\n",
       "      <td>0.0</td>\n",
       "      <td>0.000000</td>\n",
       "      <td>0.0</td>\n",
       "      <td>0.0</td>\n",
       "      <td>0.000000</td>\n",
       "      <td>0.0</td>\n",
       "      <td>0.000000</td>\n",
       "      <td>0.0</td>\n",
       "      <td>0.0</td>\n",
       "      <td>0.0</td>\n",
       "      <td>0.0</td>\n",
       "      <td>0.0</td>\n",
       "    </tr>\n",
       "    <tr>\n",
       "      <th>2</th>\n",
       "      <td>0.0</td>\n",
       "      <td>0.504175</td>\n",
       "      <td>0.0</td>\n",
       "      <td>0.0</td>\n",
       "      <td>0.433808</td>\n",
       "      <td>0.0</td>\n",
       "      <td>0.0</td>\n",
       "      <td>0.482876</td>\n",
       "      <td>0.0</td>\n",
       "      <td>0.569604</td>\n",
       "      <td>0.0</td>\n",
       "      <td>0.0</td>\n",
       "      <td>0.0</td>\n",
       "      <td>0.0</td>\n",
       "      <td>0.0</td>\n",
       "    </tr>\n",
       "    <tr>\n",
       "      <th>3</th>\n",
       "      <td>0.0</td>\n",
       "      <td>0.000000</td>\n",
       "      <td>0.0</td>\n",
       "      <td>0.0</td>\n",
       "      <td>0.000000</td>\n",
       "      <td>0.0</td>\n",
       "      <td>0.0</td>\n",
       "      <td>0.000000</td>\n",
       "      <td>0.0</td>\n",
       "      <td>0.000000</td>\n",
       "      <td>0.0</td>\n",
       "      <td>0.0</td>\n",
       "      <td>0.0</td>\n",
       "      <td>0.0</td>\n",
       "      <td>0.0</td>\n",
       "    </tr>\n",
       "    <tr>\n",
       "      <th>4</th>\n",
       "      <td>0.0</td>\n",
       "      <td>0.000000</td>\n",
       "      <td>0.0</td>\n",
       "      <td>0.0</td>\n",
       "      <td>0.000000</td>\n",
       "      <td>0.0</td>\n",
       "      <td>0.0</td>\n",
       "      <td>0.000000</td>\n",
       "      <td>0.0</td>\n",
       "      <td>0.000000</td>\n",
       "      <td>0.0</td>\n",
       "      <td>0.0</td>\n",
       "      <td>0.0</td>\n",
       "      <td>1.0</td>\n",
       "      <td>0.0</td>\n",
       "    </tr>\n",
       "  </tbody>\n",
       "</table>\n",
       "</div>"
      ],
      "text/plain": [
       "   boy    family  father  help      life  love  man       new  old       son  \\\n",
       "0  0.0  0.000000     0.0   0.0  0.000000   0.0  0.0  0.000000  0.0  1.000000   \n",
       "1  0.0  0.000000     0.0   0.0  0.000000   0.0  0.0  0.000000  0.0  0.000000   \n",
       "2  0.0  0.504175     0.0   0.0  0.433808   0.0  0.0  0.482876  0.0  0.569604   \n",
       "3  0.0  0.000000     0.0   0.0  0.000000   0.0  0.0  0.000000  0.0  0.000000   \n",
       "4  0.0  0.000000     0.0   0.0  0.000000   0.0  0.0  0.000000  0.0  0.000000   \n",
       "\n",
       "   story  war  woman  world  young  \n",
       "0    0.0  0.0    0.0    0.0    0.0  \n",
       "1    0.0  0.0    0.0    0.0    0.0  \n",
       "2    0.0  0.0    0.0    0.0    0.0  \n",
       "3    0.0  0.0    0.0    0.0    0.0  \n",
       "4    0.0  0.0    0.0    1.0    0.0  "
      ]
     },
     "execution_count": 114,
     "metadata": {},
     "output_type": "execute_result"
    }
   ],
   "source": [
    "df_overview = pd.DataFrame(tfidf_overview.toarray(), columns=tfidf.get_feature_names_out())\n",
    "df_overview.head(5)"
   ]
  },
  {
   "cell_type": "markdown",
   "id": "e073a8c1-6dc4-4e73-9b7c-41131692a980",
   "metadata": {},
   "source": [
    "### Codificação dos atributos categóricos"
   ]
  },
  {
   "cell_type": "code",
   "execution_count": 116,
   "id": "450d8e38-7efd-4db5-bf3f-507b8c88aca6",
   "metadata": {},
   "outputs": [
    {
     "data": {
      "text/html": [
       "<div>\n",
       "<style scoped>\n",
       "    .dataframe tbody tr th:only-of-type {\n",
       "        vertical-align: middle;\n",
       "    }\n",
       "\n",
       "    .dataframe tbody tr th {\n",
       "        vertical-align: top;\n",
       "    }\n",
       "\n",
       "    .dataframe thead th {\n",
       "        text-align: right;\n",
       "    }\n",
       "</style>\n",
       "<table border=\"1\" class=\"dataframe\">\n",
       "  <thead>\n",
       "    <tr style=\"text-align: right;\">\n",
       "      <th></th>\n",
       "      <th>Director</th>\n",
       "      <th>Star1</th>\n",
       "      <th>Star2</th>\n",
       "      <th>Star3</th>\n",
       "      <th>Star4</th>\n",
       "    </tr>\n",
       "  </thead>\n",
       "  <tbody>\n",
       "    <tr>\n",
       "      <th>0</th>\n",
       "      <td>100</td>\n",
       "      <td>305</td>\n",
       "      <td>4</td>\n",
       "      <td>237</td>\n",
       "      <td>147</td>\n",
       "    </tr>\n",
       "    <tr>\n",
       "      <th>1</th>\n",
       "      <td>59</td>\n",
       "      <td>89</td>\n",
       "      <td>195</td>\n",
       "      <td>0</td>\n",
       "      <td>451</td>\n",
       "    </tr>\n",
       "    <tr>\n",
       "      <th>2</th>\n",
       "      <td>100</td>\n",
       "      <td>5</td>\n",
       "      <td>461</td>\n",
       "      <td>496</td>\n",
       "      <td>147</td>\n",
       "    </tr>\n",
       "    <tr>\n",
       "      <th>3</th>\n",
       "      <td>338</td>\n",
       "      <td>184</td>\n",
       "      <td>327</td>\n",
       "      <td>382</td>\n",
       "      <td>297</td>\n",
       "    </tr>\n",
       "    <tr>\n",
       "      <th>4</th>\n",
       "      <td>286</td>\n",
       "      <td>132</td>\n",
       "      <td>566</td>\n",
       "      <td>227</td>\n",
       "      <td>493</td>\n",
       "    </tr>\n",
       "    <tr>\n",
       "      <th>...</th>\n",
       "      <td>...</td>\n",
       "      <td>...</td>\n",
       "      <td>...</td>\n",
       "      <td>...</td>\n",
       "      <td>...</td>\n",
       "    </tr>\n",
       "    <tr>\n",
       "      <th>989</th>\n",
       "      <td>335</td>\n",
       "      <td>381</td>\n",
       "      <td>225</td>\n",
       "      <td>510</td>\n",
       "      <td>416</td>\n",
       "    </tr>\n",
       "    <tr>\n",
       "      <th>990</th>\n",
       "      <td>44</td>\n",
       "      <td>95</td>\n",
       "      <td>535</td>\n",
       "      <td>147</td>\n",
       "      <td>97</td>\n",
       "    </tr>\n",
       "    <tr>\n",
       "      <th>991</th>\n",
       "      <td>392</td>\n",
       "      <td>357</td>\n",
       "      <td>501</td>\n",
       "      <td>368</td>\n",
       "      <td>81</td>\n",
       "    </tr>\n",
       "    <tr>\n",
       "      <th>993</th>\n",
       "      <td>302</td>\n",
       "      <td>242</td>\n",
       "      <td>435</td>\n",
       "      <td>193</td>\n",
       "      <td>540</td>\n",
       "    </tr>\n",
       "    <tr>\n",
       "      <th>996</th>\n",
       "      <td>106</td>\n",
       "      <td>64</td>\n",
       "      <td>402</td>\n",
       "      <td>137</td>\n",
       "      <td>157</td>\n",
       "    </tr>\n",
       "  </tbody>\n",
       "</table>\n",
       "<p>713 rows × 5 columns</p>\n",
       "</div>"
      ],
      "text/plain": [
       "     Director  Star1  Star2  Star3  Star4\n",
       "0         100    305      4    237    147\n",
       "1          59     89    195      0    451\n",
       "2         100      5    461    496    147\n",
       "3         338    184    327    382    297\n",
       "4         286    132    566    227    493\n",
       "..        ...    ...    ...    ...    ...\n",
       "989       335    381    225    510    416\n",
       "990        44     95    535    147     97\n",
       "991       392    357    501    368     81\n",
       "993       302    242    435    193    540\n",
       "996       106     64    402    137    157\n",
       "\n",
       "[713 rows x 5 columns]"
      ]
     },
     "execution_count": 116,
     "metadata": {},
     "output_type": "execute_result"
    }
   ],
   "source": [
    "le = LabelEncoder()\n",
    "for c in ['Certificate', 'Director', 'Star1', 'Star2', 'Star3', 'Star4']:\n",
    "    db_imdb[c] = le.fit_transform(db_imdb[c])\n",
    "db_imdb[['Director', 'Star1', 'Star2', 'Star3', 'Star4']]"
   ]
  },
  {
   "cell_type": "code",
   "execution_count": null,
   "id": "e283d68d-7fd3-4d09-a5d8-05f2790aee3e",
   "metadata": {},
   "outputs": [],
   "source": []
  }
 ],
 "metadata": {
  "kernelspec": {
   "display_name": "env",
   "language": "python",
   "name": "env"
  },
  "language_info": {
   "codemirror_mode": {
    "name": "ipython",
    "version": 3
   },
   "file_extension": ".py",
   "mimetype": "text/x-python",
   "name": "python",
   "nbconvert_exporter": "python",
   "pygments_lexer": "ipython3",
   "version": "3.11.7"
  }
 },
 "nbformat": 4,
 "nbformat_minor": 5
}
